{
 "cells": [
  {
   "cell_type": "code",
   "execution_count": 18,
   "metadata": {},
   "outputs": [],
   "source": [
    "\n",
    "import numpy as np\n",
    "from obspy.core.trace import Trace\n",
    "import cwt\n",
    "from matplotlib import pyplot as plt\n",
    "from scipy.signal import butter, buttord, filtfilt\n",
    "from numba import jit\n",
    "import time"
   ]
  },
  {
   "cell_type": "markdown",
   "metadata": {},
   "source": [
    "Add notes on data "
   ]
  },
  {
   "cell_type": "markdown",
   "metadata": {},
   "source": [
    "### Load data from paper implementation. \n",
    "\n",
    "windows have shape (286, 15000): 286 channels and 5 minute window length. Windows overlap by 2.5 minutes so 7500 samples. "
   ]
  },
  {
   "cell_type": "code",
   "execution_count": 19,
   "metadata": {},
   "outputs": [
    {
     "name": "stdout",
     "output_type": "stream",
     "text": [
      "data shape:  (286, 15000)\n",
      "(286, 30000)\n"
     ]
    }
   ],
   "source": [
    "#load data with shape (nchannels, nSamples)\n",
    "window_one = np.load(\"./TestData/stanford_numpy/2016-09-02_23:59:54training_prep.npy\")\n",
    "window_two =np.load(\"./TestData/stanford_numpy/2016-09-03_00:01:54training_prep.npy\")\n",
    "\n",
    "print(\"data shape: \", window_one.shape)\n",
    "\n",
    "data = np.concatenate([window_one, window_two], axis=1, dtype=np.float64)\n",
    "print(data.shape)"
   ]
  },
  {
   "cell_type": "markdown",
   "metadata": {},
   "source": [
    "### Parameter for CWT that will be used later \n",
    "\n",
    "window_size: the length of the cwt window in seconds\n",
    "\n",
    "n_channels: the number of channels in the data \n",
    "\n",
    "n_samples: the total samples in the data\n",
    "\n",
    "n_features: number of features per sample after performing cwt 30 will be on the time axis 30 will be on the spacial axis\n",
    "\n",
    "samples_per_second: samples taken per second at each channel\n",
    "\n",
    "samples_within_average: the amount of cwt features that will be average per set in the final output\n",
    "\n",
    "n_sub_samples: n_samples/samples_within_average amount of samples that will be in the final output\n",
    "\n",
    "delta: 1/samples_per_second or the sample period \n",
    "\n",
    "freq_min: min frequency allowed through bandpass filter \n",
    "\n",
    "freq_max: max frequency allowed through bandpass filter\n",
    "\n",
    "freq_min_space: min frequency used for the spatial scales of cwt \n",
    "\n",
    "freq_max_space: max frequency used for spatial scales of cwt\n",
    "\n",
    "time_scales: scales for time cwt \n",
    "\n",
    "spatial_scales: scales for spatial cwt\n",
    "\n"
   ]
  },
  {
   "cell_type": "code",
   "execution_count": 20,
   "metadata": {},
   "outputs": [
    {
     "name": "stdout",
     "output_type": "stream",
     "text": [
      "[ 0.25662204  0.30268428  0.35701443  0.42109654  0.49668103  0.58583253\n",
      "  0.69098622  0.81501442  0.96130499  1.13385391  1.3373744   1.5774257\n",
      "  1.86056487  2.19452595  2.5884312   3.05304026  3.60104407  4.24741153\n",
      "  5.00979836  5.90902941  6.96966744  8.22068413  9.69625138 11.43667478\n",
      " 13.48949453 15.91078406 18.76668163 22.135197   26.10834221 30.79464498]\n"
     ]
    }
   ],
   "source": [
    "window_size = 300\n",
    "n_channels = data.shape[0]\n",
    "n_samples = data.shape[1]\n",
    "n_features = 60\n",
    "samples_per_second = 50\n",
    "samples_within_average = 25\n",
    "n_sub_samples = int(n_samples / samples_within_average)\n",
    "delta = 1.0 / float(samples_per_second)\n",
    "freq_min = 0.2\n",
    "freq_max = 24.0\n",
    "freq_min_space= 0.04\n",
    "freq_max_space= 2\n",
    "w0 =8\n",
    "\n",
    "time_log = np.logspace(np.log10(freq_min), np.log10(freq_max), 30)\n",
    "space_log = np.logspace(np.log10(freq_min_space), np.log10(freq_max_space), 30)\n",
    "\n",
    "time_scales = cwt.scales_from_fourier(time_log, wf=\"morlet\", w0=8)\n",
    "spatial_scales = cwt.scales_from_fourier(space_log, wf=\"morlet\", w0=8)\n",
    "print(time_scales)"
   ]
  },
  {
   "cell_type": "markdown",
   "metadata": {},
   "source": [
    "### formula to calculate sacles from frequency where $ \\lambda$ = frequency\n",
    "$$ scale = \\frac{\\lambda(\\omega_0 + \\sqrt{2 + \\omega_0})}{4\\pi}  $$\n",
    "\n",
    "### formula for angular frequencies\n",
    "$$ w_k = \\begin{cases} \n",
    "   \\frac{2 \\pi k}{dt} & \\text{ k $\\le \\frac{N}{2} $ }\\\\\n",
    "   -\\frac{2 \\pi k}{dt} & \\text{ k >$\\ \\frac{N}{2} $ }\\\\\n",
    "    \\end{cases}$$\n",
    "\n",
    "### formula for morlet wavelet\n",
    "\n",
    "\n",
    "$$ \\psi_0(N) = \\pi^{ -\\frac{1}{4}} e^{iw_0N} e^{-n^2/2}\n",
    "$$\n",
    "\n",
    "### formula for morlet wavelet at a scale \n",
    "\n",
    "\n",
    "$$ \\psi_0(sw) = \\pi^{ -\\frac{1}{4}} H(w) e^{-(sw - w_0)^2/2}\n",
    "$$\n",
    "\n",
    "### Normalization term for wavelet\n",
    "\n",
    "$$ \\sqrt{ \\frac{2\\pi s}{dt}}$$"
   ]
  },
  {
   "cell_type": "code",
   "execution_count": 21,
   "metadata": {},
   "outputs": [],
   "source": [
    "def cwt_time_vec(signal, log_space, omega_0, dt, space=False):\n",
    "    #signal shape is (channels , samples)\n",
    "    #calculate the scales for cwt\n",
    "    scales = (log_space*(omega_0 + np.sqrt(2 + omega_0**2)))/ (4 * np.pi)\n",
    "    #calculate angular frequencies\n",
    "    angular_freq = ((2*np.pi * np.arange(signal.shape[1])) / (signal.shape[1]* dt))\n",
    "    # reflect the second half of the array\n",
    "    angular_freq[(signal.shape[1] //2):] *= -1\n",
    "    #H(w)\n",
    "    heavy_step = angular_freq > 0\n",
    " \n",
    "    #compute wavelet point \n",
    "    wavelet = np.zeros((signal.shape[1], scales.shape[0]), dtype=np.complex128)\n",
    "    wavelet[heavy_step,:]= np.sqrt((scales *2 * np.pi)/ dt) * (np.pi ** -.25) * np.exp(-((np.outer(angular_freq[heavy_step], scales) - omega_0)**2) / 2)\n",
    "\n",
    "    #zero mean \n",
    "    signal -= np.mean(signal)\n",
    "    \n",
    "    fft_signal = np.fft.fft(signal)\n",
    "    \n",
    "    wavelet = wavelet[:, np.newaxis, :]\n",
    "    signal = signal[np.newaxis, :,:]\n",
    "    result = np.array((wavelet.shape[1], fft_signal.shape[1]), dtype=np.complex128)\n",
    "    multiplied = wavelet.T * fft_signal\n",
    "    \n",
    "    \n",
    "    if(not space):\n",
    "        multiplied = multiplied.transpose(0,2,1)\n",
    "        \n",
    "    print(multiplied.shape)\n",
    "    \n",
    "    inverse_start = time.time()\n",
    "    result = np.fft.ifft(multiplied, axis=1)\n",
    "    inverse_end = time.time()\n",
    "    print(\"invers fft took\", inverse_end - inverse_start)\n",
    "    \n",
    "    return result\n",
    "    "
   ]
  },
  {
   "cell_type": "code",
   "execution_count": 72,
   "metadata": {},
   "outputs": [],
   "source": [
    "def cwt_space_vec(signal, log_space, omega_0, dt):\n",
    "    print(\"signal shape inside of space vec\",signal.shape)\n",
    "    #calculate the scales for cwt\n",
    "    scales = (log_space*(omega_0 + np.sqrt(2 + omega_0**2)))/ (4 * np.pi)\n",
    "    #calculate angular frequencies\n",
    "    angular_freq = ((2*np.pi * np.arange(signal.shape[1])) / (signal.shape[1]* dt))\n",
    "    # reflect the second half of the array\n",
    "    angular_freq[(signal.shape[1] //2):] *= -1\n",
    "    #H(w)\n",
    "    heavy_step = angular_freq > 0\n",
    " \n",
    "    #compute wavelet point \n",
    "    wavelet = np.zeros((signal.shape[1], scales.shape[0]), dtype=np.complex128)\n",
    "    wavelet[heavy_step,:]= np.sqrt((scales *2 * np.pi)/ dt) * (np.pi ** -.25) * np.exp(-((np.outer(angular_freq[heavy_step], scales) - omega_0)**2) / 2)\n",
    "\n",
    "    #zero mean \n",
    "    signal -= np.mean(signal)\n",
    "    \n",
    "    \n",
    "    fft_signal = np.fft.fft(signal)\n",
    "    \n",
    "    wavelet = wavelet[:, np.newaxis, :]\n",
    "    signal = signal[np.newaxis, :,:]\n",
    "    \n",
    "    multiplied = wavelet.T * fft_signal\n",
    "    print(\"shape after multiplication in space\", multiplied.shape)\n",
    "    \n",
    "    \n",
    "    result = np.array((wavelet.shape[1], fft_signal.shape[0]), dtype=np.complex128)\n",
    "    inverse_start = time.time()\n",
    "    result = np.fft.ifft(multiplied, axis=2)\n",
    "    inverse_end = time.time()\n",
    "    print(\"invers fft took\", inverse_end - inverse_start)\n",
    "    return result\n",
    "    "
   ]
  },
  {
   "cell_type": "markdown",
   "metadata": {},
   "source": [
    "## This transforms one window of data "
   ]
  },
  {
   "cell_type": "code",
   "execution_count": 73,
   "metadata": {},
   "outputs": [],
   "source": [
    "def transform_window(data):\n",
    "    \"\"\"transform a window of data from stanford array \n",
    "\n",
    "    Args:\n",
    "        data (np.array(286, 15000)): window size should be 5 min/ 15000 samples \n",
    "\n",
    "    Returns:\n",
    "        cwt transformed data : np.array(286, 300,60) only samples from 250:7750 are used so result is 2.5 minutes long\n",
    "    \"\"\"\n",
    "    n_samples=data.shape[1]\n",
    "    \n",
    "    #take time derivative \n",
    "    data_derivative = data[:, 1:] - data[:, :-1]\n",
    "    \"\"\"\n",
    "    nyquist = 0.5 * samples_per_second\n",
    "    low = freq_min / nyquist\n",
    "    high = freq_max / nyquist\n",
    "    b, a = butter(4, Wn=[low, high], btype=\"bandpass\")\n",
    "    \"\"\"\n",
    "\n",
    "    # perform bandpass filter to remove high and low frequencies\n",
    "    # TODO can this be done faster \n",
    "    filter_start = time.time()\n",
    "    for channel in range(n_channels):\n",
    "        trace = Trace(data=data_derivative[channel, :], header={'delta':1.0/float(samples_per_second),'sampling_rate':samples_per_second})\n",
    "        trace = trace.filter(\"bandpass\", freqmin= freq_min, freqmax= freq_max, corners=4, zerophase=True)\n",
    "        data_derivative[channel, :] = trace.data\n",
    "        #data_derivative[channel, :] = filtfilt(b, a, data_derivative[channel, :])\n",
    "    filter_end = time.time()\n",
    "    print(\"filter took\", filter_end - filter_start)\n",
    "\n",
    "    #remove lazer drift/ remove median\n",
    "    data_derivative = data_derivative - np.median(data_derivative, axis=0)\n",
    "\n",
    "\n",
    "    transformed_data = np.empty((n_channels, n_samples-1, 60), dtype=np.float64)\n",
    "    #new_transformed_data = np.empty((n_channels, n_samples-1, 60), dtype=np.float64)\n",
    "    \n",
    "    #TODO how can I get rid of these loops \n",
    "    space_start = time.time()\n",
    "    #for index, channel in enumerate(data_derivative.T):\n",
    "        #transformed_data[:, index, 30:] = np.abs(cwt_space_vec(channel, space_log, w0, delta).T)\n",
    "    transformed_data[:, : , 30:] = np.abs(cwt_space_vec(data_derivative.T, space_log, w0, delta).T) \n",
    "    space_end = time.time()\n",
    "    print(\"space cwt took\", space_end - space_start)\n",
    "    \n",
    "    time_start = time.time()\n",
    "    #for index, sample in enumerate(data_derivative):\n",
    "    #    transformed_data[index, : , :30] = np.abs(cwt_space_vec(sample, time_log, w0, delta).T) \n",
    "    transformed_data[:, : , :30] = np.abs(cwt_time_vec(data_derivative, time_log, w0, delta).T) \n",
    "    time_end = time.time()\n",
    "    print(\"time cwt took\", time_end - time_start)\n",
    "    \n",
    "   \n",
    "\n",
    "    #average samples over 0.5 second intervals \n",
    "\n",
    "    #start is at 250 since stanford windows start at 54.9 so add 5 seconds to start at the top of \n",
    "    reshaped_data = np.reshape(transformed_data[:, 250: 7750, :], (n_channels, 300, samples_within_average, 60))\n",
    "\n",
    "    averaged_data = np.mean(reshaped_data, axis=2)\n",
    "    return averaged_data\n",
    "\n",
    "\n"
   ]
  },
  {
   "cell_type": "markdown",
   "metadata": {},
   "source": [
    "### Perform cwt on two windows of data "
   ]
  },
  {
   "cell_type": "code",
   "execution_count": 74,
   "metadata": {},
   "outputs": [
    {
     "name": "stdout",
     "output_type": "stream",
     "text": [
      "filter took 1.1873281002044678\n",
      "signal shape inside of space vec (14999, 286)\n",
      "shape after multiplication in space (30, 14999, 286)\n",
      "invers fft took 16.410244941711426\n",
      "space cwt took 26.059340000152588\n",
      "(30, 14999, 286)\n",
      "invers fft took 26.68893003463745\n",
      "time cwt took 39.94915819168091\n",
      "filter took 1.003904104232788\n",
      "signal shape inside of space vec (14999, 286)\n",
      "shape after multiplication in space (30, 14999, 286)\n",
      "invers fft took 5.566688060760498\n",
      "space cwt took 11.63805603981018\n",
      "(30, 14999, 286)\n",
      "invers fft took 18.75801706314087\n",
      "time cwt took 28.544529914855957\n"
     ]
    }
   ],
   "source": [
    "\n",
    "result = np.empty((n_channels, 600, 60), dtype=np.float64)\n",
    "#window one is len of 15000 samples or 5 minutes \n",
    "result[:,:300,:] = transform_window(window_one)\n",
    "#window two is the same size but shifted 2.5 minutes from window 1\n",
    "result[:,300:,:] = transform_window(window_two)\n"
   ]
  },
  {
   "cell_type": "markdown",
   "metadata": {},
   "source": [
    "### Runtime with loop for time cwt and loop for space cwt\n",
    "filter took 1.132530927658081\n",
    "\n",
    "time cwt took 18.942780017852783\n",
    "\n",
    "space cwt took 9.199059247970581\n",
    "\n",
    "filter took 1.3635871410369873\n",
    "\n",
    "time cwt took 20.480812072753906\n",
    "\n",
    "space cwt took 8.80389404296875\n",
    "\n",
    "### Runtime with vectorized time cwt and loop for space cwt \n",
    "\n",
    "filter took 1.180962085723877\n",
    "\n",
    "invers fft took 19.92713189125061\n",
    "\n",
    "time cwt took 25.332064867019653\n",
    "\n",
    "space cwt took 10.487303972244263\n",
    "\n",
    "filter took 0.978571891784668\n",
    "\n",
    "invers fft took 26.3227481842041\n",
    "\n",
    "time cwt took 31.879231929779053\n",
    "\n",
    "space cwt took 8.40162181854248\n",
    "\n",
    "### Runtime for vectorized cwt time and space cwt \n",
    "\n",
    "filter took 1.1873281002044678\n",
    "\n",
    "invers fft took 16.410244941711426\n",
    "\n",
    "space cwt took 26.059340000152588\n",
    "\n",
    "invers fft took 26.68893003463745\n",
    "\n",
    "time cwt took 39.94915819168091\n",
    "\n",
    "filter took 1.003904104232788\n",
    "\n",
    "invers fft took 5.566688060760498\n",
    "\n",
    "space cwt took 11.63805603981018\n",
    "\n",
    "invers fft took 18.75801706314087\n",
    "\n",
    "time cwt took 28.544529914855957"
   ]
  },
  {
   "cell_type": "markdown",
   "metadata": {},
   "source": [
    "Normalize data by removing mean and scale variance to 1"
   ]
  },
  {
   "cell_type": "code",
   "execution_count": 75,
   "metadata": {},
   "outputs": [
    {
     "name": "stdout",
     "output_type": "stream",
     "text": [
      "shape of data before normalization reshape (286, 600, 60)\n",
      "shape after rshape (171600, 60)\n",
      "final shape (286, 600, 60)\n"
     ]
    }
   ],
   "source": [
    "\n",
    "#Do normilization \n",
    "trainingData = result\n",
    "print(f'shape of data before normalization reshape {trainingData.shape}')\n",
    "trainingData = np.reshape(trainingData, (n_channels * trainingData.shape[1], -1))\n",
    "print(f'shape after rshape {trainingData.shape}')\n",
    "\n",
    "#does the same thing as the papers sklearn \n",
    "trainingData = (trainingData - np.mean(trainingData, axis=0, keepdims=True)) / np.std(trainingData, axis=0, keepdims=True)\n",
    "normed_data = trainingData.reshape(n_channels, 600, 60)\n",
    "print(f'final shape {normed_data.shape}')"
   ]
  },
  {
   "cell_type": "code",
   "execution_count": 76,
   "metadata": {},
   "outputs": [],
   "source": [
    "#calculate the scales for graphs \n",
    "\n",
    "minFrq = 0.5\n",
    "maxFrq = 24\n",
    "minSpaceFrq = 0.002\n",
    "maxSpaceFrq = 0.12\n",
    "nf = 30\n",
    "# logspace from paper implemenation \n",
    "ftime = np.logspace(np.log10(minFrq), np.log10(maxFrq), nf)\n",
    "fspace = np.logspace(np.log10(minSpaceFrq), np.log10(maxSpaceFrq), nf)\n",
    "\n",
    "wf = \"morlet\"\n",
    "w0 = 8\n",
    "\n",
    "#scales from paper implementation \n",
    "time_scales = cwt.scales_from_fourier(ftime, wf , w0)\n",
    "scalesSpace = cwt.scales_from_fourier(fspace, wf, w0)\n",
    "\n",
    "\n",
    "#are these pseudo frequencies ? \n",
    "time_fourier = cwt.fourier_from_scales(time_scales, wf, w0)\n",
    "space_fourier = cwt.fourier_from_scales(scalesSpace, wf, w0)"
   ]
  },
  {
   "cell_type": "code",
   "execution_count": 77,
   "metadata": {},
   "outputs": [
    {
     "name": "stderr",
     "output_type": "stream",
     "text": [
      "/var/folders/38/7n1_2vzs5yj4rjtfy6_m6d_00000gn/T/ipykernel_3390/3079092801.py:13: UserWarning: Matplotlib is currently using module://matplotlib_inline.backend_inline, which is a non-GUI backend, so cannot show the figure.\n",
      "  fig.show()\n"
     ]
    },
    {
     "data": {
      "image/png": "[encoded data removed]",
      "text/plain": [
       "<Figure size 640x480 with 2 Axes>"
      ]
     },
     "metadata": {},
     "output_type": "display_data"
    }
   ],
   "source": [
    "\n",
    "time_data = normed_data[127][:,:30]\n",
    "\n",
    "time_graph = np.linspace(0, 300, 600)\n",
    "fig, axs = plt.subplots()\n",
    "\n",
    "\n",
    "pcm = axs.pcolormesh(time_graph, time_fourier[::-1], time_data.T, shading=\"nearest\", cmap=\"rainbow\")\n",
    "axs.set_yscale(\"log\")\n",
    "axs.set_xlabel(\"Time (s)\")\n",
    "axs.set_ylabel(\"time scales \")\n",
    "axs.set_title(\"Continuous Wavelet Transform (Time)\")\n",
    "fig.colorbar(pcm, ax=axs)\n",
    "fig.show()\n"
   ]
  },
  {
   "cell_type": "code",
   "execution_count": 78,
   "metadata": {},
   "outputs": [
    {
     "data": {
      "text/plain": [
       "<matplotlib.colorbar.Colorbar at 0x7f88ac899520>"
      ]
     },
     "execution_count": 78,
     "metadata": {},
     "output_type": "execute_result"
    },
    {
     "data": {
      "image/png": "[encoded data removed]",
      "text/plain": [
       "<Figure size 640x480 with 2 Axes>"
      ]
     },
     "metadata": {},
     "output_type": "display_data"
    }
   ],
   "source": [
    "channels_data = normed_data[:,100,30:]\n",
    "\n",
    "channels = np.linspace(0, 286, 286)\n",
    "fig, axs = plt.subplots()\n",
    "pcm = axs.pcolormesh(channels, space_fourier[::-1], channels_data.T,  shading=\"nearest\", cmap=\"rainbow\")\n",
    "axs.set_yscale(\"log\")\n",
    "axs.set_xlabel(\"channels\")\n",
    "axs.set_ylabel(\"space scales \")\n",
    "axs.set_title(\"Continuous Wavelet Transform (Channels)\")\n",
    "fig.colorbar(pcm, ax=axs)"
   ]
  }
 ],
 "metadata": {
  "kernelspec": {
   "display_name": "Python 3",
   "language": "python",
   "name": "python3"
  },
  "language_info": {
   "codemirror_mode": {
    "name": "ipython",
    "version": 3
   },
   "file_extension": ".py",
   "mimetype": "text/x-python",
   "name": "python",
   "nbconvert_exporter": "python",
   "pygments_lexer": "ipython3",
   "version": "3.8.5"
  }
 },
 "nbformat": 4,
 "nbformat_minor": 2
}
