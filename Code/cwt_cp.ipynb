{
  "cells": [
    {
      "cell_type": "code",
      "execution_count": 1,
      "metadata": {
        "id": "_E2JZVZHZqgF"
      },
      "outputs": [],
      "source": [
        "\n",
        "import numpy as np\n",
        "from obspy.core.trace import Trace\n",
        "import time\n",
        "import os\n",
        "import cupy as cp"
      ]
    },
    {
      "cell_type": "code",
      "execution_count": null,
      "metadata": {},
      "outputs": [],
      "source": [
        "#select which gpu should be used when working with a cluster \n",
        "gpu_index = 1"
      ]
    },
    {
      "cell_type": "code",
      "execution_count": 6,
      "metadata": {
        "colab": {
          "base_uri": "https://localhost:8080/"
        },
        "id": "zvqRk-DyZqgI",
        "outputId": "e45f3a24-79d5-4fe6-c3b6-2427a92060a5"
      },
      "outputs": [
        {
          "name": "stdout",
          "output_type": "stream",
          "text": [
            "data shape:  (286, 15000)\n",
            "(286, 30000)\n"
          ]
        }
      ],
      "source": [
        "window_size = 300\n",
        "n_channels = 286\n",
        "n_samples = 15000\n",
        "n_features = 60\n",
        "samples_per_second = 50\n",
        "samples_within_average = 25\n",
        "n_sub_samples = int(n_samples / samples_within_average)\n",
        "delta = 1.0 / float(samples_per_second)\n",
        "freq_min = 0.2\n",
        "freq_max = 24.0\n",
        "freq_min_space= 0.04\n",
        "freq_max_space= 2\n",
        "w0 =8\n",
        "\n",
        "#scales should be loaded onto gpu \n",
        "with cp.cuda.Device(gpu_index):\n",
        "    time_log = cp.logspace(cp.log10(freq_min), cp.log10(freq_max), 30)\n",
        "    space_log = cp.logspace(cp.log10(freq_min_space), cp.log10(freq_max_space), 30)"
      ]
    },
    {
      "cell_type": "markdown",
      "metadata": {
        "id": "S-H8X33zZqgJ"
      },
      "source": [
        "### Parameter for CWT that will be used later\n",
        "\n",
        "window_size: the length of the cwt window in seconds\n",
        "\n",
        "n_channels: the number of channels in the data\n",
        "\n",
        "n_samples: the total samples in the data\n",
        "\n",
        "n_features: number of features per sample after performing cwt 30 will be on the time axis 30 will be on the spacial axis\n",
        "\n",
        "samples_per_second: samples taken per second at each channel\n",
        "\n",
        "samples_within_average: the amount of cwt features that will be average per set in the final output\n",
        "\n",
        "n_sub_samples: n_samples/samples_within_average amount of samples that will be in the final output\n",
        "\n",
        "delta: 1/samples_per_second or the sample period\n",
        "\n",
        "freq_min: min frequency allowed through bandpass filter\n",
        "\n",
        "freq_max: max frequency allowed through bandpass filter\n",
        "\n",
        "freq_min_space: min frequency used for the spatial scales of cwt\n",
        "\n",
        "freq_max_space: max frequency used for spatial scales of cwt\n",
        "\n",
        "time_scales: scales for time cwt\n",
        "\n",
        "spatial_scales: scales for spatial cwt\n",
        "\n"
      ]
    },
    {
      "cell_type": "markdown",
      "metadata": {
        "id": "6jqJglB9ZqgK"
      },
      "source": [
        "### formula to calculate sacles from frequency where $ \\lambda$ = frequency\n",
        "$$ scale = \\frac{\\lambda(\\omega_0 + \\sqrt{2 + \\omega_0})}{4\\pi}  $$\n",
        "\n",
        "### formula for angular frequencies\n",
        "$$ w_k = \\begin{cases}\n",
        "   \\frac{2 \\pi k}{dt} & \\text{ k $\\le \\frac{N}{2} $ }\\\\\n",
        "   -\\frac{2 \\pi k}{dt} & \\text{ k >$\\ \\frac{N}{2} $ }\\\\\n",
        "    \\end{cases}$$\n",
        "\n",
        "### formula for morlet wavelet\n",
        "\n",
        "\n",
        "$$ \\psi_0(N) = \\pi^{ -\\frac{1}{4}} e^{iw_0N} e^{-n^2/2}\n",
        "$$\n",
        "\n",
        "### formula for morlet wavelet at a scale\n",
        "\n",
        "\n",
        "$$ \\psi_0(sw) = \\pi^{ -\\frac{1}{4}} H(w) e^{-(sw - w_0)^2/2}\n",
        "$$\n",
        "\n",
        "### Normalization term for wavelet\n",
        "\n",
        "$$ \\sqrt{ \\frac{2\\pi s}{dt}}$$"
      ]
    },
    {
      "cell_type": "code",
      "execution_count": 8,
      "metadata": {
        "id": "903V7sV9ZqgL"
      },
      "outputs": [],
      "source": [
        "def cwt_time_vec(signal, log_space, omega_0, dt, space=False):\n",
        "    with cp.cuda.Device(gpu_index):\n",
        "        #signal shape is (channels , samples)\n",
        "        #calculate the scales for cwt\n",
        "        scales = (log_space*(omega_0 + cp.sqrt(2 + omega_0**2)))/ (4 * cp.pi)\n",
        "        #calculate angular frequencies\n",
        "        angular_freq = ((2*cp.pi * cp.arange(signal.shape[1])) / (signal.shape[1]* dt))\n",
        "        # reflect the second half of the array\n",
        "        angular_freq[(signal.shape[1] //2):] *= -1\n",
        "        #H(w)\n",
        "        heavy_step = angular_freq > 0\n",
        "\n",
        "        #compute wavelet point\n",
        "        wavelet = cp.zeros((signal.shape[1], scales.shape[0]), dtype=cp.complex128)\n",
        "        wavelet[heavy_step,:]= np.sqrt((scales *2 * cp.pi)/ dt) * (cp.pi ** -.25) * cp.exp(-((cp.outer(angular_freq[heavy_step], scales) - omega_0)**2) / 2)\n",
        "\n",
        "        #zero mean\n",
        "        signal -= cp.mean(signal)\n",
        "\n",
        "        fft_signal = cp.fft.fft(signal)\n",
        "\n",
        "        wavelet = wavelet[:, cp.newaxis, :]\n",
        "        signal = signal[cp.newaxis, :,:]\n",
        "        result = cp.array((wavelet.shape[1], fft_signal.shape[1]), dtype=cp.complex128)\n",
        "        multiplied = wavelet.T * fft_signal\n",
        "        mempool = cp.get_default_memory_pool()\n",
        "\n",
        "        if(not space):\n",
        "            multiplied = multiplied.transpose(0,2,1)\n",
        "            \n",
        "        del scales \n",
        "        del angular_freq\n",
        "        del wavelet\n",
        "        del signal\n",
        "        del fft_signal\n",
        "        \n",
        "        cp._default_memory_pool.free_all_blocks()\n",
        "\n",
        "        inverse_start = time.time()\n",
        "        result = cp.fft.ifft(multiplied, axis=1)\n",
        "        inverse_end = time.time()\n",
        "\n",
        "        return result"
      ]
    },
    {
      "cell_type": "code",
      "execution_count": 12,
      "metadata": {
        "id": "2Y7dcWuPZqgL"
      },
      "outputs": [],
      "source": [
        "def cwt_space_vec(signal, log_space, omega_0, dt):\n",
        "    with cp.cuda.Device(gpu_index):\n",
        "        #calculate the scales for cwt\n",
        "        scales = (log_space*(omega_0 + cp.sqrt(2 + omega_0**2)))/ (4 * cp.pi)\n",
        "        #calculate angular frequencies\n",
        "        angular_freq = ((2*cp.pi * cp.arange(signal.shape[1])) / (signal.shape[1]* dt))\n",
        "        # reflect the second half of the array\n",
        "        angular_freq[(signal.shape[1] //2):] *= -1\n",
        "        #H(w)\n",
        "        heavy_step = angular_freq > 0\n",
        "\n",
        "        #compute wavelet point\n",
        "        wavelet = cp.zeros((signal.shape[1], scales.shape[0]), dtype=cp.complex128)\n",
        "        wavelet[heavy_step,:]= cp.sqrt((scales *2 * cp.pi)/ dt) * (cp.pi ** -.25) * cp.exp(-((cp.outer(angular_freq[heavy_step], scales) - omega_0)**2) / 2)\n",
        "\n",
        "        #zero mean\n",
        "        signal -= cp.mean(signal)\n",
        "\n",
        "\n",
        "        fft_signal = cp.fft.fft(signal)\n",
        "\n",
        "        wavelet = wavelet[:, cp.newaxis, :]\n",
        "        signal = signal[cp.newaxis, :,:]\n",
        "\n",
        "        multiplied = wavelet.T * fft_signal\n",
        "\n",
        "\n",
        "        result = cp.array((wavelet.shape[1], fft_signal.shape[0]), dtype=cp.complex128)\n",
        "        result = cp.fft.ifft(multiplied, axis=2)\n",
        "        return result"
      ]
    },
    {
      "cell_type": "markdown",
      "metadata": {
        "id": "y7hN2j6QZqgL"
      },
      "source": [
        "## This transforms one window of data"
      ]
    },
    {
      "cell_type": "code",
      "execution_count": 10,
      "metadata": {
        "id": "0zIDQaSUZqgL"
      },
      "outputs": [],
      "source": [
        "def transform_window(data):\n",
        "    \"\"\"transform a window of data from stanford array\n",
        "\n",
        "    Args:\n",
        "    data (np.array(286, 15000)): window size should be 5 min/ 15000 samples\n",
        "\n",
        "    Returns:\n",
        "    cwt transformed data : np.array(286, 300,60) only samples from 250:7750 are used so result is 2.5 minutes long\n",
        "    \"\"\"\n",
        "    with cp.cuda.Device(gpu_index):\n",
        "        n_samples=data.shape[1]\n",
        "\n",
        "        #take time derivative\n",
        "        data_derivative = data[:, 1:] - data[:, :-1]\n",
        "\n",
        "        # perform bandpass filter to remove high and low frequencies\n",
        "        # TODO can this be done faster\n",
        "        for channel in range(n_channels):\n",
        "            trace = Trace(data=data_derivative[channel, :], header={'delta':1.0/float(samples_per_second),'sampling_rate':samples_per_second})\n",
        "            trace = trace.filter(\"bandpass\", freqmin= freq_min, freqmax= freq_max, corners=4, zerophase=True)\n",
        "            data_derivative[channel, :] = trace.data\n",
        "\n",
        "        #remove lazer drift/ remove median\n",
        "        data_derivative = data_derivative - np.median(data_derivative, axis=0)\n",
        "        data_derivative = cp.array(data_derivative)\n",
        "\n",
        "        transformed_data = cp.empty((n_channels, n_samples-1, 60), dtype=cp.float64)\n",
        "\n",
        "        \n",
        "        transformed_data[:, : , :30] = cp.abs(cwt_time_vec(data_derivative, time_log, w0, delta).T)\n",
        "        \n",
        "        transformed_data[:, : , 30:] = cp.abs(cwt_space_vec(data_derivative.T, space_log, w0, delta).T)\n",
        "\n",
        "        #average samples over 0.5 second intervals\n",
        "        #start is at 250 since stanford windows start at 54.9 so add 5 seconds to start at the top of\n",
        "        reshaped_data = cp.reshape(transformed_data[:, 250: 7750, :], (n_channels, 300, samples_within_average, 60))\n",
        "\n",
        "        averaged_data = cp.mean(reshaped_data, axis=2)\n",
        "        return averaged_data\n",
        "\n",
        "\n"
      ]
    },
    {
      "cell_type": "code",
      "execution_count": null,
      "metadata": {},
      "outputs": [],
      "source": [
        "with cp.cuda.Device(gpu_index):\n",
        "    dir = \"./DAS_data/09\"\n",
        "    out_dir = \"CWT_data/09\"\n",
        "    \n",
        "    file_list = os.listdir(dir)\n",
        "    sorted_list = sorted(file_list)\n",
        "    \n",
        "\n",
        "    count = 0\n",
        "    for file in sorted_list:\n",
        "        count +=1\n",
        "        data = np.load(dir+ \"/\"+ file)\n",
        "        start = time.time()\n",
        "        result = transform_window(data)\n",
        "        end = time.time()\n",
        "        print(f'transform {count} took {end-start}')\n",
        "        \n",
        "        filename = file.split(\".\")[0]\n",
        "        np.save(out_dir + \"/\" + \"cwt_\" + filename, result)\n",
        "        \n",
        "        "
      ]
    }
  ],
  "metadata": {
    "accelerator": "GPU",
    "colab": {
      "gpuType": "T4",
      "provenance": []
    },
    "kernelspec": {
      "display_name": "Python 3",
      "name": "python3"
    },
    "language_info": {
      "codemirror_mode": {
        "name": "ipython",
        "version": 3
      },
      "file_extension": ".py",
      "mimetype": "text/x-python",
      "name": "python",
      "nbconvert_exporter": "python",
      "pygments_lexer": "ipython3",
      "version": "3.8.5"
    }
  },
  "nbformat": 4,
  "nbformat_minor": 0
}
